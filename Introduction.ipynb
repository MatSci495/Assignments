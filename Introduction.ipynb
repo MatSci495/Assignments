{
  "nbformat": 4,
  "nbformat_minor": 0,
  "metadata": {
    "colab": {
      "provenance": []
    },
    "kernelspec": {
      "name": "python3",
      "display_name": "Python 3"
    },
    "language_info": {
      "name": "python"
    }
  },
  "cells": [
    {
      "cell_type": "code",
      "execution_count": 3,
      "metadata": {
        "colab": {
          "base_uri": "https://localhost:8080/"
        },
        "id": "wXJu-Xxo4Ws8",
        "outputId": "7010e95b-968f-4b9b-cc04-13810ab675a3"
      },
      "outputs": [
        {
          "output_type": "stream",
          "name": "stdout",
          "text": [
            "Welcome to MatSci 495!\n"
          ]
        }
      ],
      "source": [
        "print(\"Welcome to MatSci 495!\")"
      ]
    }
  ]
}